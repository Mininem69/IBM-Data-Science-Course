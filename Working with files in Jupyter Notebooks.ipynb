{
 "cells": [
  {
   "cell_type": "markdown",
   "id": "f736957a-7e94-4d04-a1c9-2d3ee7a251e7",
   "metadata": {},
   "source": [
    "# H1: Data Science Tools and Ecosystem"
   ]
  },
  {
   "cell_type": "markdown",
   "id": "73223637-52c0-4fc2-a11f-f85f048701d6",
   "metadata": {},
   "source": [
    "In this notebook, Data Science Tools and Ecosystem are summarized."
   ]
  },
  {
   "cell_type": "markdown",
   "id": "c307381d-729d-461e-9d89-8863c174104b",
   "metadata": {},
   "source": [
    "**Objetives:**\n",
    "- Some of the popular languages that Data Scientists use are\n",
    "- Some of the commonly used libaries used by Data Scientists\n",
    "- Data Science tools"
   ]
  },
  {
   "cell_type": "markdown",
   "id": "6de0b7c0-d1f5-4211-b733-b555216d2170",
   "metadata": {},
   "source": [
    "Some of the popular languages that Data Scientists use are:\n",
    "1. R\n",
    "2. Python\n",
    "3. SqL"
   ]
  },
  {
   "cell_type": "markdown",
   "id": "37fb2bed-5eb5-450c-9380-9b0ef3ea45dd",
   "metadata": {},
   "source": [
    "Some of the commonly used libraries used by Data scientists include:\n",
    "1. Numpy\n",
    "2. Pandas\n",
    "3. Matplotlib\n",
    "4. Ploty\n",
    "5. Dplyr"
   ]
  },
  {
   "cell_type": "markdown",
   "id": "3d0e8fe8-c1a8-41f5-a962-106d206a821f",
   "metadata": {},
   "source": [
    "|Data Science Tools|\n",
    "|------------------|\n",
    "|Apache Spark|\n",
    "|Jupyter Notebook|\n",
    "|TensorFlow|"
   ]
  },
  {
   "cell_type": "markdown",
   "id": "680e56c5-cd03-4c4e-a9ff-8c431c146c6d",
   "metadata": {},
   "source": [
    "### H3: Below are a few examples of evaluating arithmetic expressions in Python"
   ]
  },
  {
   "cell_type": "code",
   "execution_count": 47,
   "id": "3aa86bcd-6c14-4c0d-bf5a-04126d19b5f5",
   "metadata": {},
   "outputs": [
    {
     "data": {
      "text/plain": [
       "17"
      ]
     },
     "execution_count": 47,
     "metadata": {},
     "output_type": "execute_result"
    }
   ],
   "source": [
    "#This is a simple arithmetic expression to multiply and then add integers\n",
    "(3*4)+5"
   ]
  },
  {
   "cell_type": "code",
   "execution_count": 26,
   "id": "e717a5c3-4275-4776-b21a-449fcd20aa9c",
   "metadata": {},
   "outputs": [
    {
     "data": {
      "text/plain": [
       "3.3333333333333335"
      ]
     },
     "execution_count": 26,
     "metadata": {},
     "output_type": "execute_result"
    }
   ],
   "source": [
    "#This will convert 200 minutes to hours by dividing by 60\n",
    "(200/60)"
   ]
  },
  {
   "cell_type": "markdown",
   "id": "b63d8850-83f3-4853-b5d0-b835ddbbeccc",
   "metadata": {},
   "source": [
    "## H2: Author\n",
    "Carlos Arroyo Miguel"
   ]
  },
  {
   "cell_type": "code",
   "execution_count": null,
   "id": "22cc7135-eff3-468d-9a02-b49828aab24c",
   "metadata": {},
   "outputs": [],
   "source": []
  }
 ],
 "metadata": {
  "kernelspec": {
   "display_name": "Python 3 (ipykernel)",
   "language": "python",
   "name": "python3"
  },
  "language_info": {
   "codemirror_mode": {
    "name": "ipython",
    "version": 3
   },
   "file_extension": ".py",
   "mimetype": "text/x-python",
   "name": "python",
   "nbconvert_exporter": "python",
   "pygments_lexer": "ipython3",
   "version": "3.11.7"
  }
 },
 "nbformat": 4,
 "nbformat_minor": 5
}
